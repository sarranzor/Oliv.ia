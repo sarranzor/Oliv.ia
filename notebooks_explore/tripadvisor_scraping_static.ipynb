{
 "cells": [
  {
   "cell_type": "markdown",
   "id": "fbc8ec5b",
   "metadata": {},
   "source": [
    "# TripAdvisor Scraping"
   ]
  },
  {
   "cell_type": "markdown",
   "id": "ca314672",
   "metadata": {},
   "source": [
    "### Librerías"
   ]
  },
  {
   "cell_type": "code",
   "execution_count": 2,
   "id": "11865c74",
   "metadata": {},
   "outputs": [],
   "source": [
    "from bs4 import BeautifulSoup as bs\n",
    "import requests\n",
    "import pandas as pd\n",
    "from selenium import webdriver\n",
    "from selenium.webdriver.chrome.service import Service\n",
    "from selenium.webdriver.chrome.options import Options\n",
    "from selenium.webdriver.common.by import By\n",
    "from selenium.webdriver.support.ui import WebDriverWait\n",
    "from selenium.webdriver.support import expected_conditions as EC\n",
    "import time"
   ]
  },
  {
   "cell_type": "markdown",
   "id": "4789bb37",
   "metadata": {},
   "source": [
    "### Obtención del HTML"
   ]
  },
  {
   "cell_type": "code",
   "execution_count": 3,
   "id": "59e1678b",
   "metadata": {},
   "outputs": [],
   "source": [
    "url = \"https://www.tripadvisor.com/Restaurant_Review-g60864-d2333058-Reviews-Olde_Nola_Cookery-New_Orleans_Louisiana.html\"\n",
    "headers = {\"User-Agent\": \"Mozilla/5.0 (Windows NT 10.0; Win64; x64) \"\n",
    "                      \"AppleWebKit/537.36 (KHTML, like Gecko) \"\n",
    "                      \"Chrome/120.0.0.0 Safari/537.36\"}\n",
    "options = Options()\n",
    "options.add_argument(\"--headless=new\")  # Nueva versión de headless mode\n",
    "options.add_argument(\"--disable-gpu\")  # Desactiva el uso de GPU\n",
    "options.add_argument(\"--no-sandbox\")  # Evita problemas en servidores\n",
    "options.add_argument(\"--disable-dev-shm-usage\")  # Evita errores en entornos con poca memoria compartida\n",
    "options.add_argument(\"--blink-settings=imagesEnabled=false\")  # No carga imágenes para optimizar\n",
    "options.add_argument(\"--disable-extensions\")  # Desactiva extensiones innecesarias\n",
    "options.add_argument(\"--disable-infobars\")  # Evita que muestre avisos de automatización\n",
    "options.add_argument(\"--mute-audio\")  # Silencia cualquier posible sonido\n",
    "options.add_argument(\"--user-agent=Mozilla/5.0 (Windows NT 10.0; Win64; x64) AppleWebKit/537.36 (KHTML, like Gecko) Chrome/124.0.0.0 Safari/537.36\")\n",
    "\n",
    "service = Service()\n",
    "driver = webdriver.Chrome(service=service, options=options)\n",
    "driver.get(url)\n",
    "\n",
    "soup = bs(driver.page_source, \"html.parser\")\n",
    "\n",
    "driver.quit()\n",
    "\n"
   ]
  },
  {
   "cell_type": "markdown",
   "id": "422ce7cd",
   "metadata": {},
   "source": [
    "### Obtención de la info básica"
   ]
  },
  {
   "cell_type": "code",
   "execution_count": null,
   "id": "d3d6cf15",
   "metadata": {},
   "outputs": [],
   "source": [
    "# Nombre\n",
    "name = soup.find(\"h1\").text.strip()\n",
    "# Dirección\n",
    "address = soup.find(\"span\", {\"data-automation\" : \"restaurantsMapLinkOnName\"}).text.strip()\n",
    "# Valoración media\n",
    "rate = soup.find(\"div\", {\"data-automation\" : \"bubbleRatingValue\"}).text.strip()\n",
    "# Número de valoraciones\n",
    "n_ratings = soup.find(\"div\", {\"data-automation\" : \"bubbleReviewCount\"}).text.strip()\n",
    "# Tipos de cocina y precio - OPCIÓN B\n",
    "search = [res for res in soup.find_all(\"span\") if \"Restaurants in\" in res.text.strip()][0]\n",
    "cuisines_price = [c.text.strip() for c in search.find_next_sibling()]\n",
    "cuisines_price = [c for c in cuisines_price if c != \",\"]\n",
    "cuisines = cuisines_price[:-1]\n",
    "price = cuisines_price[-1]\n",
    "# Resumen, tipos de cocina, dietas y momentos de comida\n",
    "search = [res for res in soup.find_all(\"div\") if res.text.strip() == \"About\"][0]\n",
    "try:\n",
    "    about = search.find_next_sibling().text.strip()\n",
    "except Exception:\n",
    "    about = None\n",
    "try:\n",
    "    diets = [r for r in search.find_next_sibling().find_all(\"div\") if r.text.strip().lower() == \"special diets\"][0]\n",
    "    diets = diets.find_next_sibling().text.strip()\n",
    "except Exception:\n",
    "    diets = None\n",
    "try:\n",
    "    cuisines = [r for r in search.find_next_sibling().find_all(\"div\") if r.text.strip().lower() == \"cuisines\"][0]\n",
    "    cuisines = cuisines.find_next_sibling().text.strip()\n",
    "except Exception:\n",
    "    cuisines = None\n",
    "try:\n",
    "    meal_times = [r for r in search.find_next_sibling().find_all(\"div\") if r.text.strip().lower() == \"meal types\"][0]\n",
    "    meal_times = meal_times.find_next_sibling().text.strip()\n",
    "except Exception:\n",
    "    meal_times = None\n",
    "# Resumen de reseñas\n",
    "try:\n",
    "    search = [res for res in soup.find_all(\"div\") if res.text.strip() == \"Reviews summary\"][0]\n",
    "    reviews_summary = search.find_parents()[1].find_next_siblings()[1].find().text.strip()\n",
    "    reviews_summary = reviews_summary.replace(\"Jump to all reviews\", \"\").strip()\n",
    "except Exception:\n",
    "    reviews_summary = None\n"
   ]
  },
  {
   "cell_type": "code",
   "execution_count": 31,
   "id": "cbb290ff",
   "metadata": {},
   "outputs": [
    {
     "name": "stdout",
     "output_type": "stream",
     "text": [
      "Nombre: Olde Nola Cookery\n",
      "Dirección: 205 Bourbon St, New Orleans, LA 70130-2204\n",
      "Valoración media: 4.6\n",
      "Número de valoraciones: (3,910 reviews)\n",
      "Tipos de cocina: Cajun & Creole, Seafood\n",
      "Precio: $$ - $$$\n",
      "Dietas: Vegetarian friendly, Vegan options, Gluten free options\n",
      "Momentos de comida: Lunch, Dinner, Brunch, Late Night\n",
      "Resumen de reseñas: Olde Nola Cookery is celebrated for its authentic New Orleans flavors, with dishes like gumbo and po'boys frequently earning praise from patrons. Nestled in the heart of Bourbon Street, its prime location and reasonable prices are a hit among diners. The vibrant atmosphere, often buzzing with live music, adds to the charm, though some guests consider it loud.\n",
      "\n",
      "Service at this establishment is consistently lauded for its attentiveness and efficiency, ensuring minimal wait times. However, a few diners note occasional inconsistencies in the food's quality.\n",
      "Resumen: \"Cooked by Locals, Spiced with History\" Located on the famous Bourbon Street in the heart of the French Quarter. Come take it all in... the sights, the sounds and the taste of New Orleans!Read moreRead lessFeaturesCUISINESCajun & Creole, SeafoodMeal typesLunch, Dinner, Brunch, Late NightSpecial DietsVegetarian friendly, Vegan options, Gluten free optionsFEATURESAccepts Credit CardsAmerican ExpressBeachDiscoverFull BarHighchairs AvailableLive MusicMastercardReservationsSeatingServes AlcoholTable ServiceTakeoutTelevisionVisaWheelchair Accessible\n"
     ]
    }
   ],
   "source": [
    "print(\"Nombre:\", name)\n",
    "print(\"Dirección:\", address)\n",
    "print(\"Valoración media:\", rate)\n",
    "print(\"Número de valoraciones:\", n_ratings)\n",
    "print(\"Tipos de cocina:\", cuisines)\n",
    "print(\"Precio:\", price)\n",
    "print(\"Dietas:\", diets)\n",
    "print(\"Momentos de comida:\", meal_times)\n",
    "print(\"Resumen de reseñas:\", reviews_summary)\n",
    "print(\"Resumen:\", about)"
   ]
  },
  {
   "cell_type": "code",
   "execution_count": 11,
   "id": "28f18362",
   "metadata": {},
   "outputs": [
    {
     "data": {
      "text/plain": [
       "<div><div class=\"JajTY f K\"><div class=\"biGQs _P fiohW kSNRl uuBRH\">All reviews</div></div></div>"
      ]
     },
     "execution_count": 11,
     "metadata": {},
     "output_type": "execute_result"
    }
   ],
   "source": [
    "search = [res for res in soup.find_all(\"div\") if res.text.strip() == \"All reviews\"][0]\n",
    "search"
   ]
  },
  {
   "cell_type": "code",
   "execution_count": 29,
   "id": "1b7d594b",
   "metadata": {},
   "outputs": [
    {
     "data": {
      "text/plain": [
       "<div class=\"mSOQy\"><div class=\"fHkot\" data-test-target=\"low_content_cta\"><div class=\"\"><div class=\"rpPMZ e u Fl\"><div class=\"biGQs _P fiohW ngXxk\">No reviews for this property yet.</div><button class=\"rmyCe _G B- z _S c Wc wSSLS AeLHi QHaGY\" data-automation=\"ugcNoReviewsWarCta\" type=\"button\"><span class=\"biGQs _P ttuOS\"><span class=\"\"><svg aria-hidden=\"true\" class=\"d Vb egaXP UmNoP\" height=\"20px\" viewbox=\"0 0 24 24\" width=\"20px\"><path clip-rule=\"evenodd\" d=\"M13.788 7.293 6.19 14.868l-.816 3.746 3.724-.839 7.588-7.583zm3.96 1.84-2.898-2.9.556-.554A2.32 2.32 0 0 1 17.02 5c.378 0 .73.104 1.031.315l.01.007.012.008c1.12.757 1.221 2.26.326 3.151zm-7.896 10.01-5.99 1.35q-.032.009-.064.007a.297.297 0 0 1-.29-.36l1.31-6.023 9.529-9.5A3.82 3.82 0 0 1 17.02 3.5c.66 0 1.318.184 1.893.587a3.536 3.536 0 0 1 .546 5.457z\" fill-rule=\"evenodd\"></path></svg>Write a review</span></span></button></div></div></div><div class=\"DnVcE e\"><div class=\"HLCmq\"><div class=\"f e F1 _Z\"><div class=\"H\"><div class=\"E\" style=\"top:135px\"><div class=\"YcOBw E\"><div class=\"Eufjb j u ChFsW Xd o S\" id=\"slot:300x250:rail2\"></div></div></div></div><div class=\"H\"><div class=\"E\" style=\"top:135px\"><div class=\"YcOBw E\"><div class=\"Eufjb j u ChFsW Xd o S\" id=\"slot:300x250:rail3\"></div></div></div></div></div></div><div class=\"RitaP\"><div class=\"VoJnw\"></div></div></div></div>"
      ]
     },
     "execution_count": 29,
     "metadata": {},
     "output_type": "execute_result"
    }
   ],
   "source": [
    "res = soup.find(\"div\", {\"data-test-target\" : \"reviews-tab\"}).find(\"div\", class_=\"mSOQy\")\n",
    "res"
   ]
  },
  {
   "cell_type": "code",
   "execution_count": 23,
   "id": "9befefd9",
   "metadata": {},
   "outputs": [
    {
     "data": {
      "text/plain": [
       "[]"
      ]
     },
     "execution_count": 23,
     "metadata": {},
     "output_type": "execute_result"
    }
   ],
   "source": [
    "res = soup.find_all(\"div\", class_=\"JVaPo Gi kQjeB\")\n",
    "res"
   ]
  },
  {
   "cell_type": "code",
   "execution_count": null,
   "id": "a3f4fae8",
   "metadata": {},
   "outputs": [],
   "source": []
  },
  {
   "cell_type": "code",
   "execution_count": null,
   "id": "16645adf",
   "metadata": {},
   "outputs": [],
   "source": []
  },
  {
   "cell_type": "code",
   "execution_count": null,
   "id": "0a39a541",
   "metadata": {},
   "outputs": [],
   "source": []
  },
  {
   "cell_type": "code",
   "execution_count": null,
   "id": "ebf4ac60",
   "metadata": {},
   "outputs": [],
   "source": []
  }
 ],
 "metadata": {
  "kernelspec": {
   "display_name": "venv",
   "language": "python",
   "name": "python3"
  },
  "language_info": {
   "codemirror_mode": {
    "name": "ipython",
    "version": 3
   },
   "file_extension": ".py",
   "mimetype": "text/x-python",
   "name": "python",
   "nbconvert_exporter": "python",
   "pygments_lexer": "ipython3",
   "version": "3.12.1"
  }
 },
 "nbformat": 4,
 "nbformat_minor": 5
}
