{
 "cells": [
  {
   "cell_type": "markdown",
   "id": "1ce0cdea",
   "metadata": {},
   "source": [
    "### Obtención estrucutra y valores de los atributos"
   ]
  },
  {
   "cell_type": "code",
   "execution_count": null,
   "id": "53e9401b",
   "metadata": {},
   "outputs": [],
   "source": [
    "from collections import defaultdict\n",
    "\n",
    "valores_atributos = defaultdict(set)\n",
    "\n",
    "def recolectar_valores(dic, prefijo=''):\n",
    "    for clave, valor in dic.items():\n",
    "        clave_completa = f\"{prefijo}.{clave}\" if prefijo else clave\n",
    "        if isinstance(valor, dict):\n",
    "            recolectar_valores(valor, prefijo=clave_completa)\n",
    "        else:\n",
    "            valores_atributos[clave_completa].add(valor)\n",
    "\n",
    "for dic in yelp['attributes_clean']:\n",
    "    if isinstance(dic, dict):\n",
    "        recolectar_valores(dic)\n",
    "\n",
    "# Convertimos a dict normal si quieres visualizarlo mejor\n",
    "valores_atributos = dict(valores_atributos)\n",
    "\n",
    "# Ejemplo de visualización\n",
    "for clave, valores in valores_atributos.items():\n",
    "    print(f\"{clave}: {valores}\")"
   ]
  }
 ],
 "metadata": {
  "language_info": {
   "name": "python"
  }
 },
 "nbformat": 4,
 "nbformat_minor": 5
}
