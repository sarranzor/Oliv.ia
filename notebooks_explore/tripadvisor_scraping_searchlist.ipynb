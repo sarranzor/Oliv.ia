{
 "cells": [
  {
   "cell_type": "code",
   "execution_count": 1,
   "id": "3e3662de",
   "metadata": {},
   "outputs": [],
   "source": [
    "from bs4 import BeautifulSoup as bs\n",
    "import requests\n",
    "import pandas as pd\n",
    "from selenium import webdriver\n",
    "from selenium.webdriver.chrome.service import Service\n",
    "from selenium.webdriver.chrome.options import Options\n",
    "from selenium.webdriver.common.by import By\n",
    "from selenium.webdriver.support.ui import WebDriverWait\n",
    "from selenium.webdriver.support import expected_conditions as EC\n",
    "import time\n",
    "import undetected_chromedriver as uc"
   ]
  },
  {
   "cell_type": "code",
   "execution_count": 2,
   "id": "34b9af56",
   "metadata": {},
   "outputs": [],
   "source": [
    "url = \"https://www.tripadvisor.com/Restaurants-g60745-Boston_Massachusetts.html\"\n",
    "headers = {\"User-Agent\": \"Mozilla/5.0 (Windows NT 10.0; Win64; x64) \"\n",
    "                      \"AppleWebKit/537.36 (KHTML, like Gecko) \"\n",
    "                      \"Chrome/120.0.0.0 Safari/537.36\"}\n",
    "options = uc.ChromeOptions()\n",
    "options.add_argument(\"--no-sandbox\")\n",
    "options.add_argument(\"--disable-dev-shm-usage\")\n",
    "options.add_argument(\"--mute-audio\")\n",
    "\n",
    "driver = uc.Chrome(options=options, headless=False)\n",
    "driver.get(url)\n",
    "\n",
    "time.sleep(2)\n",
    "try:\n",
    "    driver.find_element(By.XPATH, \"//*[@id='onetrust-accept-btn-handler']\").click()\n",
    "except Exception:\n",
    "    pass\n",
    "time.sleep(1)\n",
    "try:\n",
    "    driver.find_element(By.XPATH, \"//*[@data-automation='closeModal']\").click()\n",
    "except Exception:\n",
    "    pass\n",
    "\n",
    "soup = bs(driver.page_source, \"html.parser\")\n"
   ]
  },
  {
   "cell_type": "code",
   "execution_count": 3,
   "id": "e71acd1e",
   "metadata": {},
   "outputs": [
    {
     "data": {
      "text/plain": [
       "['/Restaurant_Review-g60745-d8711593-Reviews-Wahlburgers-Boston_Massachusetts.html',\n",
       " '/Restaurant_Review-g60745-d608389-Reviews-Douzo-Boston_Massachusetts.html',\n",
       " '/Restaurant_Review-g60745-d6641547-Reviews-Bostonia_Public_House-Boston_Massachusetts.html',\n",
       " '/Restaurant_Review-g60745-d9778587-Reviews-SRV_Restaurant-Boston_Massachusetts.html',\n",
       " '/Restaurant_Review-g60745-d322009-Reviews-Antico_Forno-Boston_Massachusetts.html',\n",
       " '/Restaurant_Review-g60745-d539435-Reviews-Tresca-Boston_Massachusetts.html',\n",
       " '/Restaurant_Review-g60745-d321954-Reviews-Terramia_Ristorante-Boston_Massachusetts.html',\n",
       " '/Restaurant_Review-g60745-d3567563-Reviews-Carmelina_s-Boston_Massachusetts.html',\n",
       " '/Restaurant_Review-g60745-d1992229-Reviews-Bleacher_Bar-Boston_Massachusetts.html',\n",
       " '/Restaurant_Review-g60745-d323014-Reviews-Theo_s_Cozy_Corner_Restaurant-Boston_Massachusetts.html',\n",
       " '/Restaurant_Review-g60745-d2138841-Reviews-Legal_Sea_Foods_Harborside-Boston_Massachusetts.html',\n",
       " '/Restaurant_Review-g60745-d4838745-Reviews-Row_34-Boston_Massachusetts.html',\n",
       " '/Restaurant_Review-g60745-d19799010-Reviews-Cafe_Bonjour-Boston_Massachusetts.html',\n",
       " '/Restaurant_Review-g60745-d1438444-Reviews-James_Hook_Co-Boston_Massachusetts.html',\n",
       " '/Restaurant_Review-g60745-d321972-Reviews-Joe_s_American_Bar_Grill-Boston_Massachusetts.html',\n",
       " '/Restaurant_Review-g60745-d26726135-Reviews-Savr-Boston_Massachusetts.html',\n",
       " '/Restaurant_Review-g60745-d9453693-Reviews-Yvonne_s-Boston_Massachusetts.html',\n",
       " '/Restaurant_Review-g60745-d321583-Reviews-Boston_Sail_Loft-Boston_Massachusetts.html',\n",
       " '/Restaurant_Review-g60745-d5572598-Reviews-Ostra-Boston_Massachusetts.html',\n",
       " '/Restaurant_Review-g60745-d321915-Reviews-OAK_Long_Bar_Kitchen-Boston_Massachusetts.html',\n",
       " '/Restaurant_Review-g60745-d10041455-Reviews-The_Friendly_Toast-Boston_Massachusetts.html',\n",
       " '/Restaurant_Review-g60745-d6426817-Reviews-Legal_Sea_Foods_Downtown_Crossing-Boston_Massachusetts.html',\n",
       " '/Restaurant_Review-g60745-d15234627-Reviews-Energize-Boston_Massachusetts.html',\n",
       " '/Restaurant_Review-g60745-d11894092-Reviews-Ruka_Restobar-Boston_Massachusetts.html',\n",
       " '/Restaurant_Review-g60745-d321579-Reviews-Barking_Crab-Boston_Massachusetts.html',\n",
       " '/Restaurant_Review-g60745-d1115352-Reviews-Mooo_Beacon_Hill-Boston_Massachusetts.html',\n",
       " '/Restaurant_Review-g60745-d605870-Reviews-Sorellina-Boston_Massachusetts.html',\n",
       " '/Restaurant_Review-g60745-d776931-Reviews-Mela-Boston_Massachusetts.html',\n",
       " '/Restaurant_Review-g60745-d10480393-Reviews-Saltie_Girl-Boston_Massachusetts.html',\n",
       " '/Restaurant_Review-g60745-d2455327-Reviews-Sweet_Cheeks_Q-Boston_Massachusetts.html',\n",
       " '/Restaurant_Review-g60745-d321605-Reviews-Legal_Sea_Foods_Long_Wharf-Boston_Massachusetts.html',\n",
       " '/Restaurant_Review-g60745-d503318-Reviews-The_Black_Rose-Boston_Massachusetts.html',\n",
       " '/Restaurant_Review-g60745-d2279941-Reviews-Yard_House-Boston_Massachusetts.html']"
      ]
     },
     "execution_count": 3,
     "metadata": {},
     "output_type": "execute_result"
    }
   ],
   "source": [
    "l = []\n",
    "\n",
    "for res in soup.find_all(\"a\", class_=\"BMQDV _F Gv wSSLS SwZTJ FGwzt ukgoS\"):\n",
    "    try:\n",
    "        l.append(res.get(\"href\"))\n",
    "    except Exception:\n",
    "        pass\n",
    "\n",
    "unique_urls = list(set(l))\n",
    "unique_urls"
   ]
  }
 ],
 "metadata": {
  "kernelspec": {
   "display_name": "venv",
   "language": "python",
   "name": "python3"
  },
  "language_info": {
   "codemirror_mode": {
    "name": "ipython",
    "version": 3
   },
   "file_extension": ".py",
   "mimetype": "text/x-python",
   "name": "python",
   "nbconvert_exporter": "python",
   "pygments_lexer": "ipython3",
   "version": "3.12.1"
  }
 },
 "nbformat": 4,
 "nbformat_minor": 5
}
